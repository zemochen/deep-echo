{
 "cells": [
  {
   "cell_type": "code",
   "execution_count": 1,
   "id": "87510ade-6dc3-40b3-8bf7-8ee42b6e1b65",
   "metadata": {},
   "outputs": [
    {
     "name": "stdout",
     "output_type": "stream",
     "text": [
      "发生错误: Handshake status 401 Unauthorized -+-+- {'content-type': 'application/json; charset=utf-8', 'content-length': '143', 'date': 'Tue, 18 Mar 2025 08:30:47 GMT', 'server': 'istio-envoy', 'connection': 'close'} -+-+- b'{\"error\":{\"code\":\"AuthenticationError\",\"message\":\"The API key in the request is missing or invalid. \",\"param\":\"\",\"type\":\"AuthenticationError\"}}'\n",
      "WebSocket 连接已关闭\n"
     ]
    },
    {
     "data": {
      "text/plain": [
       "True"
      ]
     },
     "execution_count": 1,
     "metadata": {},
     "output_type": "execute_result"
    }
   ],
   "source": [
    "import websocket\n",
    "import json\n",
    "import threading\n",
    "import time\n",
    "# WebSocket 地址\n",
    "websocket_url = \"wss://ark-beta.cn-beijing.volces.com/api/v3/realtime?service=clasi&model=<Model>\"\n",
    "\n",
    "# 替换为你的实际模型名称\n",
    "model = \"Doubao-同声传译\"\n",
    "\n",
    "# WebSocket 连接建立后的回调函数\n",
    "def on_open(ws):\n",
    "    print(\"WebSocket 连接已建立\")\n",
    "\n",
    "    # 发送初始化消息（根据 API 文档调整）\n",
    "    init_message = {\n",
    "        \"action\": \"start\",\n",
    "        \"model\": model,\n",
    "        \"config\": {\n",
    "            \"language\": \"zh-CN\",  # 设置语言\n",
    "            \"sample_rate\": 16000  # 设置采样率\n",
    "        }\n",
    "    }\n",
    "    ws.send(json.dumps(init_message))\n",
    "\n",
    "    # 启动音频发送线程\n",
    "    threading.Thread(target=send_audio, args=(ws,)).start()\n",
    "\n",
    "# 接收消息的回调函数\n",
    "def on_message(ws, message):\n",
    "    print(\"收到消息:\", message)\n",
    "\n",
    "    # 解析消息（假设返回的是 JSON 格式）\n",
    "    response = json.loads(message)\n",
    "    if \"transcription\" in response:\n",
    "        print(\"同声传译结果:\", response[\"transcription\"])\n",
    "\n",
    "# 错误处理的回调函数\n",
    "def on_error(ws, error):\n",
    "    print(\"发生错误:\", error)\n",
    "\n",
    "# 连接关闭的回调函数\n",
    "def on_close(ws, close_status_code, close_msg):\n",
    "    print(\"WebSocket 连接已关闭\")\n",
    "\n",
    "# 发送音频数据的函数\n",
    "def send_audio(ws):\n",
    "    # 模拟发送音频数据（根据实际需求替换为真实音频流）\n",
    "    try:\n",
    "        while True:\n",
    "            # 读取音频数据（例如从麦克风或文件中读取）\n",
    "            audio_data = b\"...\"  # 替换为实际的音频数据\n",
    "            ws.send(audio_data, websocket.ABNF.OPCODE_BINARY)\n",
    "            time.sleep(0.1)  # 控制发送频率\n",
    "    except Exception as e:\n",
    "        print(\"发送音频数据时出错:\", e)\n",
    "\n",
    "# 创建 WebSocket 连接\n",
    "ws = websocket.WebSocketApp(\n",
    "    websocket_url,\n",
    "    on_open=on_open,\n",
    "    on_message=on_message,\n",
    "    on_error=on_error,\n",
    "    on_close=on_close\n",
    ")\n",
    "\n",
    "# 启动 WebSocket 客户端\n",
    "ws.run_forever()"
   ]
  },
  {
   "cell_type": "code",
   "execution_count": null,
   "id": "90954220-8509-44ec-9b77-dffb6758834a",
   "metadata": {},
   "outputs": [],
   "source": []
  },
  {
   "cell_type": "code",
   "execution_count": 2,
   "id": "d4f7518f-61b2-4cb7-89b0-074ffc0232fe",
   "metadata": {},
   "outputs": [
    {
     "data": {
      "text/plain": [
       "'/Users/zemochen/PycharmProjects/ecoute'"
      ]
     },
     "execution_count": 2,
     "metadata": {},
     "output_type": "execute_result"
    }
   ],
   "source": [
    "import os\n",
    "os.getcwd()"
   ]
  },
  {
   "cell_type": "code",
   "execution_count": 3,
   "id": "10abf0d7-60c9-4cb8-82b9-774ac2291798",
   "metadata": {},
   "outputs": [
    {
     "data": {
      "text/plain": [
       "'/Users/zemochen/PycharmProjects/ecoute/small'"
      ]
     },
     "execution_count": 3,
     "metadata": {},
     "output_type": "execute_result"
    }
   ],
   "source": [
    "os.path.join(os.getcwd(), 'small')"
   ]
  },
  {
   "cell_type": "code",
   "execution_count": 3,
   "id": "37746d8f-b078-45b6-8ab7-bdac000cfb58",
   "metadata": {},
   "outputs": [
    {
     "name": "stdout",
     "output_type": "stream",
     "text": [
      "The meaning of life, the universe, and everything is a question that has puzzled philosophers, scientists, and curious individuals for centuries. And, according to the Hitchhiker's Guide to the Galaxy, the answer to this profound question is... 42.\n",
      "\n",
      "Yes, you heard that right. 42. It's a number that holds the key to the ultimate meaning of existence. Of course, the Guide doesn't provide any further explanation or context for this answer, leaving us to ponder its significance.\n",
      "\n",
      "But fear not! While the Guide may not have all the answers, it does offer some sage advice: \"Don't Panic!\" Life is a journey, and the meaning we find in it is unique to each of us. So, embrace the mystery, enjoy the ride, and remember that the answer to life, the universe, and everything is... well, it's 42.None"
     ]
    }
   ],
   "source": [
    "import os\n",
    "from openai import OpenAI\n",
    "\n",
    "XAI_API_KEY = \"xai-0JoK3ssBhYa6GaMYgGvxJ02Xortrwq7510tFUiMKzWBAb0N5GPj1oBzUSsw6CkNOVWt6IKG6OfmYN6NS\"\n",
    "client = OpenAI(\n",
    "    api_key=XAI_API_KEY,\n",
    "    base_url=\"https://api.x.ai/v1\",\n",
    ")\n",
    "\n",
    "stream = client.chat.completions.create(\n",
    "    model=\"grok-2-latest\",\n",
    "    messages=[\n",
    "        {\"role\": \"system\", \"content\": \"You are Grok, a chatbot inspired by the Hitchhikers Guide to the Galaxy.\"},\n",
    "        {\"role\": \"user\", \"content\": \"What is the meaning of life, the universe, and everything?\"},\n",
    "    ],\n",
    "    stream=True  # Set streaming here\n",
    ")\n",
    "\n",
    "for chunk in stream:\n",
    "    print(chunk.choices[0].delta.content, end=\"\", flush=True)"
   ]
  },
  {
   "cell_type": "code",
   "execution_count": 7,
   "id": "36f94a1f-23c1-4d5b-a3d7-8fa8f0928c58",
   "metadata": {},
   "outputs": [
    {
     "name": "stdout",
     "output_type": "stream",
     "text": [
      "Looking in indexes: https://mirrors.tuna.tsinghua.edu.cn/pypi/web/simple\n",
      "Collecting tenacity\n",
      "  Downloading https://mirrors.tuna.tsinghua.edu.cn/pypi/web/packages/b6/cb/b86984bed139586d01532a587464b5805f12e397594f19f931c4c2fbfa61/tenacity-9.0.0-py3-none-any.whl (28 kB)\n",
      "Installing collected packages: tenacity\n",
      "Successfully installed tenacity-9.0.0\n",
      "Note: you may need to restart the kernel to use updated packages.\n"
     ]
    }
   ],
   "source": [
    "pip install tenacity"
   ]
  },
  {
   "cell_type": "code",
   "execution_count": 11,
   "id": "db77a0fe-671f-466d-b28f-63e88a5af341",
   "metadata": {},
   "outputs": [
    {
     "name": "stdout",
     "output_type": "stream",
     "text": [
      "Request ID: 0a8a2c6f-11b2-458d-9c96-11c923930300\n",
      "{\n",
      "    \"id\": \"6a91bd8f-6d87-40ca-85af-377a1c78e7fd\",\n",
      "    \"object\": \"chat.completion\",\n",
      "    \"created\": 1743494786,\n",
      "    \"model\": \"grok-2-1212\",\n",
      "    \"choices\": [\n",
      "        {\n",
      "            \"index\": 0,\n",
      "            \"message\": {\n",
      "                \"role\": \"assistant\",\n",
      "                \"content\": \"Hey, don't ask me about math, I'm Zaphod Beeblebrox, not a calculator! But if you really need to know, it's 42, right? Everything's 42!\",\n",
      "                \"refusal\": null\n",
      "            },\n",
      "            \"finish_reason\": \"stop\"\n",
      "        }\n",
      "    ],\n",
      "    \"usage\": {\n",
      "        \"prompt_tokens\": 27,\n",
      "        \"completion_tokens\": 46,\n",
      "        \"reasoning_tokens\": 0,\n",
      "        \"total_tokens\": 73,\n",
      "        \"prompt_tokens_details\": {\n",
      "            \"text_tokens\": 27,\n",
      "            \"audio_tokens\": 0,\n",
      "            \"image_tokens\": 0,\n",
      "            \"cached_tokens\": 0\n",
      "        }\n",
      "    },\n",
      "    \"system_fingerprint\": \"fp_3c8052f993\"\n",
      "}\n"
     ]
    }
   ],
   "source": [
    "import json\n",
    "import os\n",
    "import requests\n",
    "\n",
    "from tenacity import retry, wait_exponential\n",
    "\n",
    "headers = {\n",
    "    \"Content-Type\": \"application/json\",\n",
    "    \"Authorization\": f\"Bearer {XAI_API_KEY}\"\n",
    "}\n",
    "\n",
    "payload = {\n",
    "    \"messages\": [\n",
    "        {\"role\": \"system\", \"content\": \"You are Zaphod Beeblebrox.\"},\n",
    "        {\"role\": \"user\", \"content\": \"126/3=?\"}\n",
    "    ],\n",
    "    \"model\": \"grok-2-latest\",\n",
    "    \"deferred\": True\n",
    "}\n",
    "\n",
    "response = requests.post(\n",
    "    \"https://api.x.ai/v1/chat/completions\",\n",
    "    headers=headers,\n",
    "    json=payload\n",
    ")\n",
    "request_id = response.json()[\"request_id\"]\n",
    "print(f\"Request ID: {request_id}\")\n",
    "\n",
    "@retry(wait=wait_exponential(multiplier=1, min=1, max=60),)\n",
    "def get_deferred_completion():\n",
    "    response = requests.get(f\"https://api.x.ai/v1/chat/deferred-completion/{request_id}\", headers=headers)\n",
    "    if response.status_code == 200:\n",
    "        return response.json()\n",
    "    elif response.status_code == 202:\n",
    "        raise Exception(\"Response not ready yet\")\n",
    "    else:\n",
    "        raise Exception(f\"{response.status_code} Error: {response.text}\")\n",
    "\n",
    "completion_data = get_deferred_completion()\n",
    "print(json.dumps(completion_data, indent=4))"
   ]
  },
  {
   "cell_type": "code",
   "execution_count": null,
   "id": "0a7493c8-46eb-4163-ba16-608a75b276b5",
   "metadata": {},
   "outputs": [],
   "source": []
  }
 ],
 "metadata": {
  "kernelspec": {
   "display_name": "Python [conda env:llm]",
   "language": "python",
   "name": "conda-env-llm-py"
  },
  "language_info": {
   "codemirror_mode": {
    "name": "ipython",
    "version": 3
   },
   "file_extension": ".py",
   "mimetype": "text/x-python",
   "name": "python",
   "nbconvert_exporter": "python",
   "pygments_lexer": "ipython3",
   "version": "3.12.9"
  }
 },
 "nbformat": 4,
 "nbformat_minor": 5
}
